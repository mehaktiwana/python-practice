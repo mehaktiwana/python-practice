{
 "cells": [
  {
   "cell_type": "code",
   "execution_count": 1,
   "metadata": {},
   "outputs": [
    {
     "name": "stdout",
     "output_type": "stream",
     "text": [
      "Cube of 2 is 8\n"
     ]
    }
   ],
   "source": [
    "# Problems on Arithmetic, bitwise, logical, and other operators\n",
    "\n",
    "# Without using **, calculate the cube of a number x.\n",
    "x = int(input())\n",
    "cube = x * x * x\n",
    "print('Cube of', x, 'is', cube)"
   ]
  },
  {
   "cell_type": "code",
   "execution_count": 2,
   "metadata": {},
   "outputs": [
    {
     "name": "stdout",
     "output_type": "stream",
     "text": [
      "True\n"
     ]
    }
   ],
   "source": [
    "# Check if a number n is within 10 units of 100 using a single expression.\n",
    "\n",
    "x = int(input())\n",
    "print(abs(x-100)<=10)"
   ]
  },
  {
   "cell_type": "code",
   "execution_count": 10,
   "metadata": {},
   "outputs": [
    {
     "name": "stdout",
     "output_type": "stream",
     "text": [
      "False\n"
     ]
    }
   ],
   "source": [
    "# Using bitwise operators, determine if an integer n is odd.\n",
    "\n",
    "x = int(input())\n",
    "if x & 1 == 1:\n",
    "    print(True)\n",
    "else:\n",
    "    print(False)"
   ]
  },
  {
   "cell_type": "code",
   "execution_count": 13,
   "metadata": {},
   "outputs": [
    {
     "name": "stdout",
     "output_type": "stream",
     "text": [
      "11000000000000000000000000000000\n"
     ]
    }
   ],
   "source": [
    "# Reverse the bits of a 32-bit unsigned integer n\n",
    "\n",
    "x = int(input())\n",
    "reverse = ''.join(reversed(bin(x)[2:].zfill(32)))\n",
    "print(reverse)"
   ]
  },
  {
   "cell_type": "code",
   "execution_count": 14,
   "metadata": {},
   "outputs": [
    {
     "name": "stdout",
     "output_type": "stream",
     "text": [
      "(3, 5)\n",
      "(5, 3)\n"
     ]
    }
   ],
   "source": [
    "# Swap two variables a and b using arithmetic operators.\n",
    "\n",
    "x = 3\n",
    "y = 5\n",
    "print((x, y))\n",
    "x = x + y #8\n",
    "y = x - y #3\n",
    "x = x - y #5\n",
    "\n",
    "print((x, y))"
   ]
  },
  {
   "cell_type": "code",
   "execution_count": 17,
   "metadata": {},
   "outputs": [
    {
     "name": "stdout",
     "output_type": "stream",
     "text": [
      "True\n"
     ]
    }
   ],
   "source": [
    "# Determine if two float numbers a and b are approximately equal (within 0.001).\n",
    "\n",
    "x = 34.002\n",
    "y = 34.003\n",
    "\n",
    "print(abs(x - y) <= 0.001)"
   ]
  },
  {
   "cell_type": "code",
   "execution_count": 19,
   "metadata": {},
   "outputs": [
    {
     "name": "stdout",
     "output_type": "stream",
     "text": [
      "False\n",
      "False\n",
      "True\n"
     ]
    }
   ],
   "source": [
    "# Using logical operators, check if a string s is non-empty and starts with an uppercase letter.\n",
    "\n",
    "strings = ['', 'hello', 'Hello']\n",
    "for s in strings:\n",
    "    print(bool(s) and s[0].isupper())\n",
    "\n"
   ]
  },
  {
   "cell_type": "code",
   "execution_count": 27,
   "metadata": {},
   "outputs": [
    {
     "name": "stdout",
     "output_type": "stream",
     "text": [
      "100\n",
      "010\n",
      "110\n"
     ]
    }
   ],
   "source": [
    "# Implement a bitwise XOR operation on two boolean values x and y.\n",
    "\n",
    "x = 4\n",
    "y = 2\n",
    "print(bin(x)[2:].zfill(3))\n",
    "print(bin(y)[2:].zfill(3))\n",
    "print(bin(x ^ y)[2:].zfill(3))\n"
   ]
  },
  {
   "cell_type": "code",
   "execution_count": 30,
   "metadata": {},
   "outputs": [
    {
     "name": "stdout",
     "output_type": "stream",
     "text": [
      "2\n"
     ]
    }
   ],
   "source": [
    "# Without using the division operator /, divide a number n by 2.\n",
    "x = int(input())\n",
    "print(x >> 1)"
   ]
  },
  {
   "cell_type": "code",
   "execution_count": 33,
   "metadata": {},
   "outputs": [
    {
     "name": "stdout",
     "output_type": "stream",
     "text": [
      "False\n",
      "True\n"
     ]
    }
   ],
   "source": [
    "# Check if a number n is a power of two using bitwise operators.\n",
    "\n",
    "x = 6\n",
    "y = 4\n",
    "print(x != 0 and (x & (x-1)) == 0)\n",
    "print(y != 0 and (y & (y-1)) == 0)"
   ]
  },
  {
   "cell_type": "code",
   "execution_count": 35,
   "metadata": {},
   "outputs": [
    {
     "name": "stdout",
     "output_type": "stream",
     "text": [
      "True\n"
     ]
    }
   ],
   "source": [
    "# Determine if the expression not (a < b) and not (a > b) is equivalent to a == b for any a and b.\n",
    "\n",
    "a = 4\n",
    "b = 4\n",
    "print((not(a < b) and not(a > b)) == (a == b))"
   ]
  },
  {
   "cell_type": "code",
   "execution_count": 36,
   "metadata": {},
   "outputs": [
    {
     "name": "stdout",
     "output_type": "stream",
     "text": [
      "3.0\n"
     ]
    }
   ],
   "source": [
    "# Calculate the expression 3 ** 2 // 2 * 3 / 3 - 1 and explain the order of operations.\n",
    "\n",
    "print(3 ** 2 // 2 * 3 / 3 - 1)\n",
    "# 3 ** 2 = 9\n",
    "# 3 / 3 = 1\n",
    "# 2 * 1 = 2\n",
    "# 9 // 2 = 4\n",
    "# 4 - 1 = 3\n",
    "\n",
    "#  3 ** 2 // 2 * 3 / 3 - 1\n",
    "#  |--1--|--4--|-3-|-2-|-5-|\n"
   ]
  },
  {
   "cell_type": "code",
   "execution_count": 51,
   "metadata": {},
   "outputs": [
    {
     "name": "stdout",
     "output_type": "stream",
     "text": [
      "0b10110011\n",
      "0b1011001110\n"
     ]
    }
   ],
   "source": [
    "# Rotate the bits of the number 0b10110011 two positions to the left.\n",
    "\n",
    "x = 0b10110011\n",
    "print(bin(0b10110011))\n",
    "print(bin((x << 2) | (x >> 6)))\n"
   ]
  },
  {
   "cell_type": "code",
   "execution_count": 52,
   "metadata": {},
   "outputs": [
    {
     "data": {
      "text/plain": [
       "2"
      ]
     },
     "execution_count": 52,
     "metadata": {},
     "output_type": "execute_result"
    }
   ],
   "source": [
    "True * 2 + False // 3\n",
    "# 1 * 2 + False // 3\n",
    "# 2 + 0\n",
    "#  2"
   ]
  },
  {
   "cell_type": "code",
   "execution_count": 62,
   "metadata": {},
   "outputs": [
    {
     "name": "stdout",
     "output_type": "stream",
     "text": [
      "0b11\n",
      "0b11\n"
     ]
    }
   ],
   "source": [
    "# Implement a basic version of the XOR operation using only AND, OR, and NOT operators.\n",
    "\n",
    "# print(bin(4))\n",
    "# print(bin(7))\n",
    "print(bin(4 ^ 7))\n",
    "\n",
    "\n",
    "a = 4\n",
    "b = 7\n",
    "print(bin((a | b) & ~(a & b)))\n",
    "\n"
   ]
  },
  {
   "cell_type": "code",
   "execution_count": 64,
   "metadata": {},
   "outputs": [
    {
     "name": "stdout",
     "output_type": "stream",
     "text": [
      "False\n"
     ]
    }
   ],
   "source": [
    "# Determine if an integer n is a power of two without using loops or recursion.\n",
    "x = int(input())\n",
    "print(x != 0 and (x & (x-1) == 0))"
   ]
  },
  {
   "cell_type": "code",
   "execution_count": 65,
   "metadata": {},
   "outputs": [
    {
     "name": "stdout",
     "output_type": "stream",
     "text": [
      "(3, 5)\n",
      "(5, 3)\n"
     ]
    }
   ],
   "source": [
    "# Swap two integers a = 3 and b = 5 without using extra space.\n",
    "\n",
    "a = 3\n",
    "b = 5\n",
    "print((a, b))\n",
    "a = a ^ b\n",
    "b = a ^ b\n",
    "a = a ^ b\n",
    "print((a, b))"
   ]
  },
  {
   "cell_type": "code",
   "execution_count": 69,
   "metadata": {},
   "outputs": [
    {
     "name": "stdout",
     "output_type": "stream",
     "text": [
      "False\n"
     ]
    }
   ],
   "source": [
    "# Check if two numbers, a = 4 and b = 9, have opposite signs using bitwise operators.\n",
    "\n",
    "a = 4\n",
    "b = 9\n",
    "print((a ^ b) < 0)"
   ]
  },
  {
   "cell_type": "code",
   "execution_count": 71,
   "metadata": {},
   "outputs": [
    {
     "name": "stdout",
     "output_type": "stream",
     "text": [
      "00101011\n"
     ]
    }
   ],
   "source": [
    "#  Reverse the bits of an 8-bit binary number, 0b11010100.\n",
    "\n",
    "x = 0b11010100\n",
    "print( ''.join(reversed(bin(x)[2:])))"
   ]
  },
  {
   "cell_type": "code",
   "execution_count": 74,
   "metadata": {},
   "outputs": [
    {
     "name": "stdout",
     "output_type": "stream",
     "text": [
      "34\n",
      "34\n"
     ]
    }
   ],
   "source": [
    "# Calculate the remainder of 1234 divided by 100 without using the % operator\n",
    "\n",
    "# dividend = divisor * quotient + remainder \n",
    "remainder = 1234 - (100 * (1234 // 100))\n",
    "print(remainder)\n",
    "# print(1234 % 100)"
   ]
  },
  {
   "cell_type": "code",
   "execution_count": 6,
   "metadata": {},
   "outputs": [
    {
     "name": "stdout",
     "output_type": "stream",
     "text": [
      "Sum of 3 and 7 is even\n"
     ]
    }
   ],
   "source": [
    "# Problems on boolean operations, conditional statements, and logical expressions.\n",
    "\n",
    "# Determine if the sum of two integers is even without using the % operator.\n",
    "\n",
    "# sum of two numbers is even either if both numbers are even or both are odd\n",
    "# for a number to be even, bitwise and of 1 and the number is 0\n",
    "# for a number to be odd, bitwise and of 1 and the number is 1\n",
    "\n",
    "x = int(input())\n",
    "y = int(input())\n",
    "\n",
    "if ((x & 1 == 0) and (y & 1 == 0)) or (x & 1 == 1) and (y & 1 == 1):\n",
    "    print('Sum of', x, 'and', y, 'is even')\n",
    "else:\n",
    "    print('Sum of', x, 'and', y, 'is odd')\n"
   ]
  },
  {
   "cell_type": "code",
   "execution_count": 4,
   "metadata": {},
   "outputs": [
    {
     "name": "stdout",
     "output_type": "stream",
     "text": [
      "Sum of 3 and 5 is even\n"
     ]
    }
   ],
   "source": [
    "# OR\n",
    "\n",
    "# add both numbers and see if the sum is even by bitwise and with 1\n",
    "\n",
    "x = int(input())\n",
    "y = int(input())\n",
    "\n",
    "sum = x + y\n",
    "if sum & 1 == 0:\n",
    "    print('Sum of', x, 'and', y, 'is even')\n",
    "else:\n",
    "    print('Sum of', x, 'and', y, 'is odd')"
   ]
  },
  {
   "cell_type": "code",
   "execution_count": 10,
   "metadata": {},
   "outputs": [
    {
     "name": "stdout",
     "output_type": "stream",
     "text": [
      "2 is positive and even\n"
     ]
    }
   ],
   "source": [
    "# Check if a number is both positive and even\n",
    "x = int(input())\n",
    "\n",
    "if (x > 0) and (x % 2 == 0):\n",
    "    print(x, 'is positive and even')\n",
    "else:\n",
    "    print(x, 'is either negative or odd')"
   ]
  },
  {
   "cell_type": "code",
   "execution_count": 18,
   "metadata": {},
   "outputs": [
    {
     "name": "stdout",
     "output_type": "stream",
     "text": [
      "True False True\n",
      "False False False\n",
      "True True False\n",
      "False True True\n"
     ]
    }
   ],
   "source": [
    "# Determine if the XOR of two boolean values is true\n",
    "x = True\n",
    "y = False\n",
    "print(x, y, x ^ y)\n",
    "\n",
    "x = False\n",
    "y = False\n",
    "print(x, y, x ^ y)\n",
    "\n",
    "x = True\n",
    "y = True\n",
    "print(x, y, x ^ y)\n",
    "\n",
    "x = False\n",
    "y = True\n",
    "print(x, y, x ^ y)\n"
   ]
  },
  {
   "cell_type": "code",
   "execution_count": 19,
   "metadata": {},
   "outputs": [
    {
     "name": "stdout",
     "output_type": "stream",
     "text": [
      "True\n",
      "False\n",
      "False\n"
     ]
    }
   ],
   "source": [
    "# Check if a list is not empty and its first element is True.\n",
    "def check(l):\n",
    "    return bool(l) and l[0] is True\n",
    "\n",
    "l1 = [True, False, False]\n",
    "l2 = [False, True, False]\n",
    "l3 = []\n",
    "\n",
    "print(check(l1))\n",
    "print(check(l2))  \n",
    "print(check(l3))  "
   ]
  },
  {
   "cell_type": "code",
   "execution_count": 30,
   "metadata": {},
   "outputs": [
    {
     "name": "stdout",
     "output_type": "stream",
     "text": [
      "Yes, it is odd\n",
      "No, it is not odd\n"
     ]
    }
   ],
   "source": [
    "# Verify if the integer part of a float is odd.\n",
    "def checkNum(x):\n",
    "    if int(x) % 2 != 0:\n",
    "        print('Yes, it is odd')\n",
    "    else:\n",
    "        print('No, it is not odd')\n",
    "\n",
    "checkNum(3.009)\n",
    "checkNum(4.871)"
   ]
  },
  {
   "cell_type": "code",
   "execution_count": 32,
   "metadata": {},
   "outputs": [
    {
     "name": "stdout",
     "output_type": "stream",
     "text": [
      "False\n"
     ]
    }
   ],
   "source": [
    "# Determine if at least one of three variables, a, b, c, is True\n",
    "\n",
    "a = False\n",
    "b = False\n",
    "c = False\n",
    "\n",
    "print(a or b or c)"
   ]
  },
  {
   "cell_type": "code",
   "execution_count": 34,
   "metadata": {},
   "outputs": [
    {
     "name": "stdout",
     "output_type": "stream",
     "text": [
      "False\n",
      "False\n",
      "True\n"
     ]
    }
   ],
   "source": [
    "# Check if a string s is non-empty and its first character is uppercase.\n",
    "s1 = ''\n",
    "s2 = 'hello'\n",
    "s3 = 'Hello'\n",
    "def checkString(s):\n",
    "    return bool(s) and s[0].isupper()\n",
    "\n",
    "print(checkString(s1))\n",
    "print(checkString(s2))\n",
    "print(checkString(s3))\n"
   ]
  },
  {
   "cell_type": "code",
   "execution_count": 12,
   "metadata": {},
   "outputs": [
    {
     "name": "stdout",
     "output_type": "stream",
     "text": [
      "No, 10 and -11 are not complementary\n"
     ]
    }
   ],
   "source": [
    "#  Determine if the binary representations of two numbers are complementary\n",
    "# bitwise negation of a number (~) returns 2's complement\n",
    "# you need to mask the result with the appropriate number of bits\n",
    "\n",
    "# x = int(input())\n",
    "# y = int(input())\n",
    "\n",
    "# DOUBT\n",
    "\n"
   ]
  },
  {
   "cell_type": "code",
   "execution_count": 13,
   "metadata": {},
   "outputs": [
    {
     "name": "stdout",
     "output_type": "stream",
     "text": [
      "1 is neiher divisible by 2 nor 3\n",
      "2 is divisible by 2 not by 3\n",
      "3 is divisible by 3 not by 2\n",
      "6 is divisible by both 2 and 3\n"
     ]
    }
   ],
   "source": [
    "# Check if a number n is neither divisible by 2 nor 3.\n",
    "def divisible23(x):\n",
    "    if x % 2 != 0 and x % 3 != 0:\n",
    "        print(x, 'is neiher divisible by 2 nor 3')\n",
    "    elif x % 2 == 0 and x % 3 != 0:\n",
    "        print(x,'is divisible by 2 not by 3')\n",
    "    elif x % 3 == 0 and x % 2 != 0:\n",
    "        print(x,'is divisible by 3 not by 2')\n",
    "    else:\n",
    "        print(x,'is divisible by both 2 and 3')\n",
    "\n",
    "divisible23(1)   \n",
    "divisible23(2)\n",
    "divisible23(3)\n",
    "divisible23(6)"
   ]
  },
  {
   "cell_type": "code",
   "execution_count": 24,
   "metadata": {},
   "outputs": [
    {
     "name": "stdout",
     "output_type": "stream",
     "text": [
      "Conditions not approved!\n",
      "Conditions not approved!\n",
      "Conditions approved!\n"
     ]
    }
   ],
   "source": [
    "# Determine if the length of a string s is both greater than 5 and a prime number.\n",
    "\n",
    "def prime(x):\n",
    "    if x > 1:\n",
    "        for i in range(2, (x//2)+1):\n",
    "            if x % i == 0:\n",
    "                return False\n",
    "                break\n",
    "        else:\n",
    "            return True\n",
    "    else:\n",
    "        return False\n",
    "\n",
    "def check(x):\n",
    "    if x > 5 and prime(x):\n",
    "        print('Conditions approved!')\n",
    "    else:\n",
    "        print('Conditions not approved!')\n",
    "\n",
    "check(len('abc'))\n",
    "check(len('abcdefgh'))\n",
    "check(len('abcdefg'))\n",
    "            "
   ]
  },
  {
   "cell_type": "code",
   "execution_count": 25,
   "metadata": {},
   "outputs": [
    {
     "name": "stdout",
     "output_type": "stream",
     "text": [
      "True\n",
      "True\n",
      "True\n",
      "False\n"
     ]
    }
   ],
   "source": [
    "# Evaluate if at least two out of three booleans a, b, c are True\n",
    "x1 = [True, False, False]\n",
    "x2 = [True, True, False]\n",
    "x3 = [True, True, True]\n",
    "x4 = [False, False, False]\n",
    "\n",
    "def checkBool(x):\n",
    "    result = False\n",
    "    for i in x:\n",
    "        result = result or i\n",
    "    print(result)\n",
    "\n",
    "checkBool(x1)\n",
    "checkBool(x2)\n",
    "checkBool(x3)\n",
    "checkBool(x4)"
   ]
  },
  {
   "cell_type": "code",
   "execution_count": 27,
   "metadata": {},
   "outputs": [
    {
     "name": "stdout",
     "output_type": "stream",
     "text": [
      "False\n",
      "True\n",
      "False\n",
      "True\n"
     ]
    }
   ],
   "source": [
    "# Check if a string s is neither empty nor consists solely of whitespace characters\n",
    "\n",
    "def checkString(x):\n",
    "    if bool(x) and x.isspace():\n",
    "        return False\n",
    "    else:\n",
    "        return True\n",
    "    \n",
    "string1 = \"    \"\n",
    "string2 = \"  Hello World  \"\n",
    "string3 = \"\\t\\n\"\n",
    "string4 = \"Hello World\"\n",
    "\n",
    "print(checkString(string1))\n",
    "print(checkString(string2))\n",
    "print(checkString(string3))\n",
    "print(checkString(string4))"
   ]
  },
  {
   "cell_type": "code",
   "execution_count": 36,
   "metadata": {},
   "outputs": [
    {
     "name": "stdout",
     "output_type": "stream",
     "text": [
      "Possible!\n"
     ]
    }
   ],
   "source": [
    "# Given three integers, check if they can form the sides of a right-angled triangle\n",
    "# pythagorus theorem\n",
    "def rightTriangle(l):\n",
    "    l.sort()\n",
    "    if l[2]**2 == l[0]**2 + l[1]**2:\n",
    "        print('Possible!')\n",
    "    else:\n",
    "        print('Not possible!')\n",
    "\n",
    "l = [5,3,4]\n",
    "rightTriangle(l)\n"
   ]
  },
  {
   "cell_type": "code",
   "execution_count": 41,
   "metadata": {},
   "outputs": [
    {
     "name": "stdout",
     "output_type": "stream",
     "text": [
      "NOT OK!\n"
     ]
    }
   ],
   "source": [
    "# Use a boolean expression to find if a number is in the range [5, 10] inclusive.\n",
    "\n",
    "x = int(input())\n",
    "if x >=5 and x <= 10:\n",
    "    print('OK!')\n",
    "else:\n",
    "    print('NOT OK!')"
   ]
  },
  {
   "cell_type": "code",
   "execution_count": 44,
   "metadata": {},
   "outputs": [
    {
     "name": "stdout",
     "output_type": "stream",
     "text": [
      "False\n",
      "False\n",
      "False\n",
      "False\n",
      "True\n"
     ]
    }
   ],
   "source": [
    "# Return the boolean True if a string is both alphabetic and uppercase.\n",
    "def checkString1(string):\n",
    "    return string.isupper() and string.isalpha()\n",
    "print(checkString1('hello'))\n",
    "print(checkString1('123'))\n",
    "print(checkString1('hello123'))\n",
    "print(checkString1('HELLO123'))\n",
    "print(checkString1('HELLO'))"
   ]
  },
  {
   "cell_type": "code",
   "execution_count": 48,
   "metadata": {},
   "outputs": [
    {
     "name": "stdout",
     "output_type": "stream",
     "text": [
      "False\n",
      "True\n",
      "True\n",
      "False\n"
     ]
    }
   ],
   "source": [
    "# Check if exactly one of two boolean values is True, without using the != operator.\n",
    "#  false and false =  false  | false or false = false\n",
    "#  false and true = false    | false or true = true\n",
    "#  true and false = false    | true or false = true\n",
    "#  true and true = true      | true or true = true\n",
    "def checkBool1(bool1, bool2):\n",
    "    return (bool1 or bool2) and not(bool1 and bool2)\n",
    "\n",
    "print(checkBool1(False, False))\n",
    "print(checkBool1(False, True))\n",
    "print(checkBool1(True, False))\n",
    "print(checkBool1(True, True))\n"
   ]
  },
  {
   "cell_type": "code",
   "execution_count": 49,
   "metadata": {},
   "outputs": [
    {
     "name": "stdout",
     "output_type": "stream",
     "text": [
      "Yes\n",
      "No\n"
     ]
    }
   ],
   "source": [
    "# Return 'Yes' if a number is positive, otherwise 'No', in one line.\n",
    "def positiveNegative(x):\n",
    "    return 'Yes' if x > 0 else 'No'\n",
    "print(positiveNegative(8))\n",
    "print(positiveNegative(-8))"
   ]
  },
  {
   "cell_type": "code",
   "execution_count": 51,
   "metadata": {},
   "outputs": [
    {
     "name": "stdout",
     "output_type": "stream",
     "text": [
      "False\n",
      "True\n"
     ]
    }
   ],
   "source": [
    "# Check if a list is empty without using len().\n",
    "print(bool([]))\n",
    "print(bool([1]))"
   ]
  },
  {
   "cell_type": "code",
   "execution_count": null,
   "metadata": {},
   "outputs": [],
   "source": [
    "# Practice problems on string manipulation.\n",
    "\n",
    "# Problems on string operations, including slicing, searching, and transformation techniques."
   ]
  },
  {
   "cell_type": "code",
   "execution_count": 52,
   "metadata": {},
   "outputs": [
    {
     "name": "stdout",
     "output_type": "stream",
     "text": [
      "dlrow olleh\n"
     ]
    }
   ],
   "source": [
    "# Reverse the string \"hello world\" without using the [::-1] syntax\n",
    "s = 'hello world'\n",
    "new = ''\n",
    "for i in range (len(s)):\n",
    "    new += s[len(s) - i -1]\n",
    "print(new)"
   ]
  },
  {
   "cell_type": "code",
   "execution_count": 53,
   "metadata": {},
   "outputs": [
    {
     "name": "stdout",
     "output_type": "stream",
     "text": [
      "True\n"
     ]
    }
   ],
   "source": [
    "# Check if the string \"radar\" is a palindrome\n",
    "s = 'radar'\n",
    "print(s == s[::-1])"
   ]
  },
  {
   "cell_type": "code",
   "execution_count": 62,
   "metadata": {},
   "outputs": [
    {
     "name": "stdout",
     "output_type": "stream",
     "text": [
      "e\n"
     ]
    }
   ],
   "source": [
    "# Find the first non-repeated character in the string \"abacddbec\"\n",
    "s = 'abacddbec'\n",
    "d = {}\n",
    "for i in s:\n",
    "    if i in d:\n",
    "        d[i] += 1\n",
    "    else:\n",
    "        d[i] = 1\n",
    "\n",
    "for i in s:\n",
    "    if d[i] == 1:\n",
    "        print(i)\n"
   ]
  },
  {
   "cell_type": "code",
   "execution_count": null,
   "metadata": {},
   "outputs": [],
   "source": [
    "# Convert the string \"123\" to an integer without using built-in conversion functions.\n"
   ]
  },
  {
   "cell_type": "code",
   "execution_count": 67,
   "metadata": {},
   "outputs": [
    {
     "name": "stdout",
     "output_type": "stream",
     "text": [
      "True\n"
     ]
    }
   ],
   "source": [
    "# Create a function that checks if a string is an anagram of another string\n",
    "s1 = 'mono'\n",
    "s2 = 'moon'\n",
    "s1 = ''.join(sorted(s1))\n",
    "s2 = ''.join(sorted(s2))\n",
    "print(s1 == s2)"
   ]
  },
  {
   "cell_type": "code",
   "execution_count": 69,
   "metadata": {},
   "outputs": [
    {
     "name": "stdout",
     "output_type": "stream",
     "text": [
      "btfl dy\n"
     ]
    }
   ],
   "source": [
    "# Remove vowels from the string \"beautiful day\"\n",
    "s = 'beautiful day'\n",
    "new = ''.join([x for x in s if x not in 'aAeEiIoOuU'])\n",
    "print(new)"
   ]
  },
  {
   "cell_type": "code",
   "execution_count": 83,
   "metadata": {},
   "outputs": [
    {
     "name": "stdout",
     "output_type": "stream",
     "text": [
      "('programming', 11)\n"
     ]
    }
   ],
   "source": [
    "# Find the longest word in the string \"hello world programming\" and return its length.\n",
    "\n",
    "s = 'hello world programming' \n",
    "maxLength = 0\n",
    "longestWord = ''\n",
    "for x in s.split():\n",
    "    if len(x) > maxLength:\n",
    "        maxLength = len(x)\n",
    "        longestWord = x\n",
    "print((longestWord, maxLength))"
   ]
  },
  {
   "cell_type": "code",
   "execution_count": 95,
   "metadata": {},
   "outputs": [
    {
     "name": "stdout",
     "output_type": "stream",
     "text": [
      "HelloWorld\n"
     ]
    }
   ],
   "source": [
    "# Convert the string \"hello_world\" into CamelCase (\"HelloWorld\").\n",
    "s = 'hello_world'\n",
    "new = ''.join([x.capitalize() for x in s.split('_')])\n",
    "print(new)\n"
   ]
  },
  {
   "cell_type": "code",
   "execution_count": 98,
   "metadata": {},
   "outputs": [
    {
     "name": "stdout",
     "output_type": "stream",
     "text": [
      "jgnnq\n"
     ]
    }
   ],
   "source": [
    "# Encode the string \"hello\" by shifting each letter by 2 positions in the alphabet (\"jgnnq\").\n",
    "string = 'hello'\n",
    "alphabets = 'abcdefghijklmnopqrstuvwxyz'\n",
    "encodedString = ''\n",
    "for x in string:\n",
    "    encodedString += alphabets[alphabets.index(x) + 2]\n",
    "print(encodedString)"
   ]
  },
  {
   "cell_type": "code",
   "execution_count": 100,
   "metadata": {},
   "outputs": [
    {
     "name": "stdout",
     "output_type": "stream",
     "text": [
      "great is Python\n"
     ]
    }
   ],
   "source": [
    "# Reverse the words in the sentence \"Python is great\" so the sentence becomes \"great is Python\"\n",
    "s = 'Python is great'\n",
    "new = ' '.join(s.split()[::-1])\n",
    "print(new)"
   ]
  },
  {
   "cell_type": "code",
   "execution_count": 101,
   "metadata": {},
   "outputs": [
    {
     "name": "stdout",
     "output_type": "stream",
     "text": [
      "3\n"
     ]
    }
   ],
   "source": [
    "# Count the number of vowels in \"Hello World\"\n",
    "\n",
    "s = 'Hello World'\n",
    "count = 0\n",
    "for x in s:\n",
    "    if x in 'aAeEiIoOuU':\n",
    "        count += 1\n",
    "print(count)"
   ]
  },
  {
   "cell_type": "code",
   "execution_count": null,
   "metadata": {},
   "outputs": [],
   "source": [
    "# Replace every third character in \"abcdefghijk\" with an asterisk (*).\n",
    "\n",
    "s = 'abcdefghijk'\n"
   ]
  },
  {
   "cell_type": "code",
   "execution_count": 102,
   "metadata": {},
   "outputs": [
    {
     "name": "stdout",
     "output_type": "stream",
     "text": [
      "True\n"
     ]
    }
   ],
   "source": [
    "# Check if all characters in the string \"abc123\" are alphanumeric.\n",
    "s = 'abc123'\n",
    "print(s.isalnum())"
   ]
  },
  {
   "cell_type": "code",
   "execution_count": 103,
   "metadata": {},
   "outputs": [
    {
     "name": "stdout",
     "output_type": "stream",
     "text": [
      "acegi\n"
     ]
    }
   ],
   "source": [
    "# Create a string from the characters at even indices of \"abcdefghi\"\n",
    "\n",
    "s = 'abcdefghi'\n",
    "new = ''\n",
    "for i in range(0, len(s), 2):\n",
    "    new += s[i]\n",
    "print(new)"
   ]
  },
  {
   "cell_type": "code",
   "execution_count": 104,
   "metadata": {},
   "outputs": [
    {
     "name": "stdout",
     "output_type": "stream",
     "text": [
      "ifmmp\n"
     ]
    }
   ],
   "source": [
    "#  Encode \"hello\" by adding 1 to the ASCII value of each character.\n",
    "s = 'hello'\n",
    "new = ''\n",
    "for x in s:\n",
    "    new += chr(ord(x) + 1)\n",
    "print(new)"
   ]
  },
  {
   "cell_type": "code",
   "execution_count": null,
   "metadata": {},
   "outputs": [],
   "source": [
    "# Practice problems on type casting. \n",
    "\n",
    "# Problems for practice of converting between different data types, such as integers, floats, strings, and lists.\n"
   ]
  },
  {
   "cell_type": "code",
   "execution_count": 105,
   "metadata": {},
   "outputs": [
    {
     "name": "stdout",
     "output_type": "stream",
     "text": [
      "['1', '2', '3']\n",
      "[1, 2, 3]\n"
     ]
    }
   ],
   "source": [
    "# Convert the list of strings [\"1\", \"2\", \"3\"] into a list of integers.\n",
    "\n",
    "l = ['1','2','3']\n",
    "new = [int(x) for x in l]\n",
    "print(l)\n",
    "print(new)"
   ]
  },
  {
   "cell_type": "code",
   "execution_count": 106,
   "metadata": {},
   "outputs": [
    {
     "name": "stdout",
     "output_type": "stream",
     "text": [
      "123_456\n"
     ]
    }
   ],
   "source": [
    "# Given a float 123.456, create a string \"123_456\" where the decimal point is replaced with an underscore.\n",
    "x = 123.456\n",
    "s = str(x).replace('.', '_')\n",
    "print(s)"
   ]
  },
  {
   "cell_type": "code",
   "execution_count": 116,
   "metadata": {},
   "outputs": [
    {
     "name": "stdout",
     "output_type": "stream",
     "text": [
      "123\n"
     ]
    }
   ],
   "source": [
    "# Turn the tuple (1, 2, 3) into a string \"123\"\n",
    "t = (1,2,3)\n",
    "l = [str(x) for x in list(t)]\n",
    "s = ''.join(l)\n",
    "print(s)"
   ]
  },
  {
   "cell_type": "code",
   "execution_count": 123,
   "metadata": {},
   "outputs": [
    {
     "name": "stdout",
     "output_type": "stream",
     "text": [
      "10\n"
     ]
    }
   ],
   "source": [
    "# Convert \"1010\" (binary string) to an integer assuming it's a binary number.\n",
    "s = '1010'\n",
    "i = int(s, 2)\n",
    "print(i)"
   ]
  },
  {
   "cell_type": "code",
   "execution_count": 1,
   "metadata": {},
   "outputs": [
    {
     "name": "stdout",
     "output_type": "stream",
     "text": [
      "123.46\n"
     ]
    }
   ],
   "source": [
    "# Create a float from the string \"123.456\" and then round it to 2 decimal places.\n",
    "s = '123.456'\n",
    "f = round(float(s), 2)\n",
    "print(f)"
   ]
  },
  {
   "cell_type": "code",
   "execution_count": 3,
   "metadata": {},
   "outputs": [
    {
     "name": "stdout",
     "output_type": "stream",
     "text": [
      "97\n",
      "65\n"
     ]
    }
   ],
   "source": [
    "print(ord('a'))\n",
    "print(ord('A'))"
   ]
  },
  {
   "cell_type": "code",
   "execution_count": 4,
   "metadata": {},
   "outputs": [
    {
     "name": "stdout",
     "output_type": "stream",
     "text": [
      "A\n"
     ]
    }
   ],
   "source": [
    "# Given an integer 65, convert it to a string that represents its ASCII character.\n",
    "integer = 65\n",
    "string = chr(integer)\n",
    "print(string)"
   ]
  },
  {
   "cell_type": "code",
   "execution_count": 5,
   "metadata": {},
   "outputs": [
    {
     "name": "stdout",
     "output_type": "stream",
     "text": [
      "26\n"
     ]
    }
   ],
   "source": [
    "# Change a hexadecimal string '0x1a' to an integer.\n",
    "string = '0x1a'\n",
    "integer = int(string, 16)\n",
    "print(integer)"
   ]
  },
  {
   "cell_type": "code",
   "execution_count": 10,
   "metadata": {},
   "outputs": [
    {
     "name": "stdout",
     "output_type": "stream",
     "text": [
      "[1, 2, 3]\n"
     ]
    }
   ],
   "source": [
    "# Given the list [1, 2, 3], create a string representation of the list, then convert it back to a list without using eval().\n",
    "l = [1,2,3]\n",
    "s = str(l)\n",
    "new_l = [int(x) for x in s.strip('[]').split(',')]\n",
    "print(new_l)"
   ]
  },
  {
   "cell_type": "code",
   "execution_count": 22,
   "metadata": {},
   "outputs": [
    {
     "name": "stdout",
     "output_type": "stream",
     "text": [
      "(1+2j)\n",
      "<class 'complex'>\n"
     ]
    }
   ],
   "source": [
    "# Convert the string representation of a complex number \"1+2j\" to a complex number object.\n",
    "\n",
    "s = '1 + 2j' \n",
    "l = [int(x) for x in s.strip('j').split('+')]\n",
    "c = complex(l[0], l[1])\n",
    "print(c)"
   ]
  },
  {
   "cell_type": "code",
   "execution_count": 25,
   "metadata": {},
   "outputs": [
    {
     "name": "stdout",
     "output_type": "stream",
     "text": [
      "123\n"
     ]
    }
   ],
   "source": [
    "#Convert the string \"123.456\" to an integer\n",
    "s = '123.456'\n",
    "i = int(float(s))\n",
    "print(i)"
   ]
  },
  {
   "cell_type": "code",
   "execution_count": null,
   "metadata": {},
   "outputs": [],
   "source": []
  }
 ],
 "metadata": {
  "kernelspec": {
   "display_name": "Python 3",
   "language": "python",
   "name": "python3"
  },
  "language_info": {
   "codemirror_mode": {
    "name": "ipython",
    "version": 3
   },
   "file_extension": ".py",
   "mimetype": "text/x-python",
   "name": "python",
   "nbconvert_exporter": "python",
   "pygments_lexer": "ipython3",
   "version": "3.11.0"
  },
  "orig_nbformat": 4
 },
 "nbformat": 4,
 "nbformat_minor": 2
}
