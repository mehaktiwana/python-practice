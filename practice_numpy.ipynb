{
 "cells": [
  {
   "cell_type": "code",
   "execution_count": null,
   "id": "cbd0949c-7c6e-4829-9f26-eb3149941985",
   "metadata": {},
   "outputs": [],
   "source": [
    "# Problem 1: \n",
    "# Create a 3x3 matrix with values ranging from 0 to 8"
   ]
  },
  {
   "cell_type": "code",
   "execution_count": 2,
   "id": "8cc24f21-9db6-4ab9-8ede-988094a4ce04",
   "metadata": {},
   "outputs": [
    {
     "name": "stdout",
     "output_type": "stream",
     "text": [
      "[[0 1 2]\n",
      " [3 4 5]\n",
      " [6 7 8]]\n"
     ]
    }
   ],
   "source": [
    "import numpy as np\n",
    "arr =np.arange(9).reshape(3,3)\n",
    "print(arr)"
   ]
  },
  {
   "cell_type": "code",
   "execution_count": null,
   "id": "eab229f6-a46c-4882-93cc-1eed2a034a8a",
   "metadata": {},
   "outputs": [],
   "source": [
    "# Problem 2: \n",
    "# Find the sum of all the elements in a NumPy array"
   ]
  },
  {
   "cell_type": "code",
   "execution_count": 4,
   "id": "ab9b6909-a77a-4c09-9cd6-1180e88e05c3",
   "metadata": {},
   "outputs": [
    {
     "name": "stdout",
     "output_type": "stream",
     "text": [
      "36\n"
     ]
    }
   ],
   "source": [
    "import numpy as np\n",
    "arr=np.arange(9).reshape(3,3)\n",
    "result=np.sum(arr)\n",
    "print(result)"
   ]
  },
  {
   "cell_type": "code",
   "execution_count": null,
   "id": "89be1812-3e34-4c17-be51-47cb99c3c894",
   "metadata": {},
   "outputs": [],
   "source": [
    "# Problem 3: \n",
    "# Replace all odd numbers in an array with -1"
   ]
  },
  {
   "cell_type": "code",
   "execution_count": 6,
   "id": "e64cb9b1-e1e0-4ab8-a282-bddc2d3d8a83",
   "metadata": {},
   "outputs": [
    {
     "name": "stdout",
     "output_type": "stream",
     "text": [
      "[[10 -1 12]\n",
      " [-1 14 -1]\n",
      " [16 -1 18]]\n"
     ]
    }
   ],
   "source": [
    "import numpy as np\n",
    "arr=np.arange(10,19).reshape(3,3)\n",
    "odd_number= arr % 2 != 0\n",
    "arr[odd_number]=-1\n",
    "print(arr)"
   ]
  },
  {
   "cell_type": "code",
   "execution_count": null,
   "id": "17c947ca-e5cc-4bbb-b73e-9cd94b691b53",
   "metadata": {},
   "outputs": [],
   "source": [
    "# Problem 4: \n",
    "# How to get the common items between two python NumPy arrays?"
   ]
  },
  {
   "cell_type": "code",
   "execution_count": 14,
   "id": "03165f2e-8cbe-4fa0-94b4-99e4016176ab",
   "metadata": {},
   "outputs": [
    {
     "name": "stdout",
     "output_type": "stream",
     "text": [
      "[4 5]\n"
     ]
    }
   ],
   "source": [
    "import numpy as np\n",
    "arr=np.array([1,2,3,4,5])\n",
    "arr1=np.array([11,12,13,4,5])\n",
    "common=np.intersect1d(arr,arr1)\n",
    "print(common)\n"
   ]
  },
  {
   "cell_type": "code",
   "execution_count": null,
   "id": "e524d2a4-56c5-4b2f-803e-dc311d55cc67",
   "metadata": {},
   "outputs": [],
   "source": [
    "# Problem 5: \n",
    "# How to get the positions where elements of two arrays match?"
   ]
  },
  {
   "cell_type": "code",
   "execution_count": 17,
   "id": "584077d4-513d-47cc-a15c-c3d2f2eb696a",
   "metadata": {},
   "outputs": [
    {
     "name": "stdout",
     "output_type": "stream",
     "text": [
      "[3 4]\n"
     ]
    }
   ],
   "source": [
    "import numpy as np\n",
    "arr=np.array([1,2,3,4,5])\n",
    "arr1=np.array([11,12,13,4,5])\n",
    "common=np.where(arr==arr1)[0]\n",
    "print(common)"
   ]
  },
  {
   "cell_type": "code",
   "execution_count": null,
   "id": "f953dab7-ec90-4d52-a201-6eeef8a380bd",
   "metadata": {},
   "outputs": [],
   "source": [
    "# Problem 6: \n",
    "# How to create a 2D array containing random floats between 5 and 10?"
   ]
  },
  {
   "cell_type": "code",
   "execution_count": 21,
   "id": "1199ff83-7c30-49be-ab88-57234a9246d5",
   "metadata": {},
   "outputs": [
    {
     "name": "stdout",
     "output_type": "stream",
     "text": [
      "[[9.64339633 6.80012149 5.01955036 7.67193579]\n",
      " [7.01444624 9.27697682 7.31520382 9.91738287]\n",
      " [6.09633184 5.99320402 6.32605478 6.84938393]]\n"
     ]
    }
   ],
   "source": [
    "import numpy as np\n",
    "arr=np.random.uniform(5,10 ,size=(3,4))\n",
    "print(arr)"
   ]
  },
  {
   "cell_type": "code",
   "execution_count": null,
   "id": "0240abc5-6e43-4658-99b7-0f344b920b6f",
   "metadata": {},
   "outputs": [],
   "source": [
    "# Problem 7: \n",
    "# Subtract the mean of each row of a matrix"
   ]
  },
  {
   "cell_type": "code",
   "execution_count": 1,
   "id": "1b8cc436-1028-4c85-bdab-4f188b321765",
   "metadata": {},
   "outputs": [
    {
     "name": "stdout",
     "output_type": "stream",
     "text": [
      "Original Matrix:\n",
      "[[1 2 3]\n",
      " [4 5 6]\n",
      " [7 8 9]]\n",
      "\n",
      "Mean of each row:\n",
      "[2. 5. 8.]\n",
      "\n",
      "Result after subtracting mean of each row:\n",
      "[[-1.  0.  1.]\n",
      " [-1.  0.  1.]\n",
      " [-1.  0.  1.]]\n"
     ]
    }
   ],
   "source": [
    "import numpy as np\n",
    "\n",
    "\n",
    "matrix = np.array([[1, 2, 3],\n",
    "                   [4, 5, 6],\n",
    "                   [7, 8, 9]])\n",
    "\n",
    "\n",
    "row_means = np.mean(matrix, axis=1)\n",
    "\n",
    "\n",
    "result_matrix = matrix - row_means[:, np.newaxis]\n",
    "\n",
    "print(\"Original Matrix:\")\n",
    "print(matrix)\n",
    "print(\"\\nMean of each row:\")\n",
    "print(row_means)\n",
    "print(\"\\nResult after subtracting mean of each row:\")\n",
    "print(result_matrix)\n"
   ]
  },
  {
   "cell_type": "code",
   "execution_count": 5,
   "id": "2a8b7776-3852-47a6-9389-87e3978c7d63",
   "metadata": {},
   "outputs": [
    {
     "name": "stdout",
     "output_type": "stream",
     "text": [
      "Original Matrix:\n",
      "[[ 1  2  3]\n",
      " [ 4  5  6]\n",
      " [ 8  9 10]]\n",
      "\n",
      "Mean of each row:\n",
      "[2. 5. 9.]\n",
      "\n",
      "Result after subtracting mean of each row:\n",
      "[[-1.  0.  1.]\n",
      " [-1.  0.  1.]\n",
      " [-1.  0.  1.]]\n"
     ]
    }
   ],
   "source": [
    "import numpy as np\n",
    "arr=np .array([[1,2,3],\n",
    "              [4,5,6],\n",
    "              [8,9,10]])\n",
    "\n",
    "row_mean=np.mean(arr , axis=1)\n",
    "sub_by_row =arr - row_mean[: ,np.newaxis]\n",
    "print(\"Original Matrix:\")\n",
    "print(arr)\n",
    "print(\"\\nMean of each row:\")\n",
    "print(row_mean)\n",
    "print(\"\\nResult after subtracting mean of each row:\")\n",
    "print(sub_by_row)"
   ]
  },
  {
   "cell_type": "code",
   "execution_count": null,
   "id": "ea5cfddc-ce24-4921-99c7-1e712cc6dd7a",
   "metadata": {},
   "outputs": [],
   "source": [
    "# Problem 8: \n",
    "# How to sort an array by the nth column?"
   ]
  },
  {
   "cell_type": "code",
   "execution_count": 12,
   "id": "9a8bd428-b91a-498c-b653-8a9434d3ea7b",
   "metadata": {},
   "outputs": [
    {
     "name": "stdout",
     "output_type": "stream",
     "text": [
      "[[2 5 6]\n",
      " [3 6 9]\n",
      " [1 4 9]]\n"
     ]
    }
   ],
   "source": [
    "import numpy as np\n",
    "arr=np.array([[5,2,6],\n",
    "             [3,6,9],\n",
    "             [4,9,1]])\n",
    "n=1\n",
    "col_sort=np.argsort(arr[: , n])\n",
    "sort_arr=np.sort(arr)\n",
    "print(sort_arr)"
   ]
  },
  {
   "cell_type": "code",
   "execution_count": 8,
   "id": "a5251fff-8bff-40cb-bd9c-fc082814d8dc",
   "metadata": {},
   "outputs": [
    {
     "name": "stdout",
     "output_type": "stream",
     "text": [
      "Original Array:\n",
      "[[1 4 7]\n",
      " [3 6 9]\n",
      " [2 5 8]]\n",
      "\n",
      "Sorted Array by the nth column:\n",
      "[[1 4 7]\n",
      " [2 5 8]\n",
      " [3 6 9]]\n"
     ]
    }
   ],
   "source": [
    "import numpy as np\n",
    "\n",
    "# Example array\n",
    "array = np.array([[1, 4, 7],\n",
    "                  [3, 6, 9],\n",
    "                  [2, 5, 8]])\n",
    "\n",
    "n = 1\n",
    "\n",
    "sorted_indices = np.argsort(array[:, n])\n",
    "\n",
    "\n",
    "sorted_array = array[sorted_indices]\n",
    "\n",
    "print(\"Original Array:\")\n",
    "print(array)\n",
    "print(\"\\nSorted Array by the nth column:\")\n",
    "print(sorted_array)\n"
   ]
  },
  {
   "cell_type": "code",
   "execution_count": null,
   "id": "1e6cc9f9-471e-44f8-b11e-7fe5a552041c",
   "metadata": {},
   "outputs": [],
   "source": [
    "# Problem 9: \n",
    "# How to tell if a given 2D array has null columns?"
   ]
  },
  {
   "cell_type": "code",
   "execution_count": 4,
   "id": "cd0f2c2d-50ba-4692-ba31-7a361d6755a1",
   "metadata": {},
   "outputs": [
    {
     "name": "stdout",
     "output_type": "stream",
     "text": [
      "True\n",
      "False\n"
     ]
    }
   ],
   "source": [
    "def has_null_columns(arr):\n",
    "    if not arr:\n",
    "        return False  \n",
    "\n",
    "    num_rows = len(arr)\n",
    "    num_cols = len(arr[0])\n",
    "\n",
    "    for col in range(num_cols):\n",
    "        column_empty = True\n",
    "        for row in range(num_rows):\n",
    "            if arr[row][col]:\n",
    "                column_empty = False\n",
    "                break\n",
    "        if column_empty:\n",
    "            return True\n",
    "\n",
    "    return False\n",
    "\n",
    "\n",
    "array_with_null_columns = [\n",
    "    [1, None, 3],\n",
    "    [None, None, None],\n",
    "    [4, None, 6]\n",
    "]\n",
    "\n",
    "array_without_null_columns = [\n",
    "    [1, 2, 3],\n",
    "    [4, 5, 6],\n",
    "    [7, 8, 9]\n",
    "]\n",
    "\n",
    "print(has_null_columns(array_with_null_columns)) \n",
    "print(has_null_columns(array_without_null_columns))  \n"
   ]
  },
  {
   "cell_type": "code",
   "execution_count": null,
   "id": "dc82a194-e8b4-4c3f-8766-2cc91a7d28a8",
   "metadata": {},
   "outputs": [],
   "source": [
    "# Problem 10: \n",
    "# Find the nearest value from a given value in an array"
   ]
  },
  {
   "cell_type": "code",
   "execution_count": 5,
   "id": "a8fbceb0-b7ff-45a1-87f8-7778ae395c0d",
   "metadata": {},
   "outputs": [
    {
     "name": "stdout",
     "output_type": "stream",
     "text": [
      "Nearest value to 6 in the array is: 5\n"
     ]
    }
   ],
   "source": [
    "def find_nearest_value(arr, target):\n",
    "    nearest_value = None\n",
    "    min_difference = float('inf')\n",
    "\n",
    "    for value in arr:\n",
    "        difference = abs(value - target)\n",
    "        if difference < min_difference:\n",
    "            min_difference = difference\n",
    "            nearest_value = value\n",
    "\n",
    "    return nearest_value\n",
    "\n",
    "# Example usage:\n",
    "arr = [1, 3, 5, 7, 9]\n",
    "target = 6\n",
    "nearest = find_nearest_value(arr, target)\n",
    "print(\"Nearest value to\", target, \"in the array is:\", nearest)\n"
   ]
  },
  {
   "cell_type": "code",
   "execution_count": null,
   "id": "38cf6c1a-df47-4596-bf83-425ef952f468",
   "metadata": {},
   "outputs": [],
   "source": [
    "# Problem 11: \n",
    "# Create an array class that has a name attribute"
   ]
  },
  {
   "cell_type": "code",
   "execution_count": 9,
   "id": "84490ec7-5664-4f50-b99d-cec2e34978a2",
   "metadata": {},
   "outputs": [
    {
     "name": "stdout",
     "output_type": "stream",
     "text": [
      "Example Array: [1, 2, 3, 4, 5]\n",
      "Example Array\n",
      "[1, 2, 3, 4, 5]\n"
     ]
    }
   ],
   "source": [
    "class NamedArray:\n",
    "    def __init__(self, name, elements):\n",
    "        self.name = name\n",
    "        self.elements = elements\n",
    "\n",
    "    def __str__(self):\n",
    "        return f\"{self.name}: {self.elements}\"\n",
    "\n",
    "    def __repr__(self):\n",
    "        return f\"NamedArray('{self.name}', {self.elements})\"\n",
    "\n",
    "# Example usage:\n",
    "arr = NamedArray(\"Example Array\", [1, 2, 3, 4, 5])\n",
    "print(arr)  \n",
    "print(arr.name)  \n",
    "print(arr.elements)  \n"
   ]
  },
  {
   "cell_type": "code",
   "execution_count": null,
   "id": "623b0004-dcd0-4cd9-887a-160b2ba4f69c",
   "metadata": {},
   "outputs": [],
   "source": [
    "# Problem 12: \n",
    "# Find the diagonal of a dot product"
   ]
  },
  {
   "cell_type": "code",
   "execution_count": 10,
   "id": "9ca68ce0-13c9-4dc4-8458-44d2fb2646ae",
   "metadata": {},
   "outputs": [
    {
     "name": "stdout",
     "output_type": "stream",
     "text": [
      "Diagonal of the dot product: [19 50]\n"
     ]
    }
   ],
   "source": [
    "import numpy as np\n",
    "\n",
    "def diagonal_of_dot_product(matrix1, matrix2):\n",
    "    dot_product = np.dot(matrix1, matrix2)\n",
    "    diagonal = np.diagonal(dot_product)\n",
    "    return diagonal\n",
    "\n",
    "# Example usage:\n",
    "matrix1 = np.array([[1, 2], [3, 4]])\n",
    "matrix2 = np.array([[5, 6], [7, 8]])\n",
    "\n",
    "diagonal_result = diagonal_of_dot_product(matrix1, matrix2)\n",
    "print(\"Diagonal of the dot product:\", diagonal_result)\n"
   ]
  },
  {
   "cell_type": "code",
   "execution_count": null,
   "id": "395b7d8b-deec-4e6e-acfc-86b2d9b79dcf",
   "metadata": {},
   "outputs": [],
   "source": [
    "# Problem 13: \n",
    "# Compute the rank of a matrix"
   ]
  },
  {
   "cell_type": "code",
   "execution_count": 11,
   "id": "0013554b-ab75-4a7e-80fd-025ca3f24eeb",
   "metadata": {},
   "outputs": [
    {
     "name": "stdout",
     "output_type": "stream",
     "text": [
      "Rank of the matrix: 2\n"
     ]
    }
   ],
   "source": [
    "import numpy as np\n",
    "\n",
    "def compute_matrix_rank(matrix):\n",
    "    rank = np.linalg.matrix_rank(matrix)\n",
    "    return rank\n",
    "\n",
    "# Example usage:\n",
    "matrix = np.array([[1, 2, 3],\n",
    "                   [4, 5, 6],\n",
    "                   [7, 8, 9]])\n",
    "\n",
    "rank = compute_matrix_rank(matrix)\n",
    "print(\"Rank of the matrix:\", rank)\n"
   ]
  },
  {
   "cell_type": "code",
   "execution_count": null,
   "id": "95228e3a-5501-49f9-816c-0e79e0669d1e",
   "metadata": {},
   "outputs": [],
   "source": [
    "# Problem 14: \n",
    "# Find the most frequent value in an array"
   ]
  },
  {
   "cell_type": "code",
   "execution_count": 12,
   "id": "a4409d20-ea0c-460a-84be-085914492aa3",
   "metadata": {},
   "outputs": [
    {
     "name": "stdout",
     "output_type": "stream",
     "text": [
      "The most frequent value in the array is: 3\n"
     ]
    }
   ],
   "source": [
    "from collections import Counter\n",
    "\n",
    "def most_frequent_value(arr):\n",
    "    if not arr:\n",
    "        return None  \n",
    "    \n",
    "    \n",
    "    counts = Counter(arr)\n",
    "    \n",
    "\n",
    "    most_common = counts.most_common(1)  \n",
    "    most_frequent_value = most_common[0][0]\n",
    "    \n",
    "    return most_frequent_value\n",
    "\n",
    "\n",
    "array = [1, 3, 5, 3, 2, 1, 3, 3, 2, 3]\n",
    "\n",
    "result = most_frequent_value(array)\n",
    "print(\"The most frequent value in the array is:\", result)\n"
   ]
  },
  {
   "cell_type": "code",
   "execution_count": null,
   "id": "0756f2dc-0c45-479c-ab16-6c7bcfd426f5",
   "metadata": {},
   "outputs": [],
   "source": [
    "# Problem 15: \n",
    "# Create a checkerboard 8x8 matrix using the NumPy `tile` function, where the tiles alternate between 0 and 1. \n",
    "# The matrix should start with 1 in the top-left corner."
   ]
  },
  {
   "cell_type": "code",
   "execution_count": 13,
   "id": "4cad5a43-150d-407c-9276-8293f995bbfc",
   "metadata": {},
   "outputs": [
    {
     "name": "stdout",
     "output_type": "stream",
     "text": [
      "Checkerboard 8x8 matrix:\n",
      "[[1 0 1 0 1 0 1 0]\n",
      " [0 1 0 1 0 1 0 1]\n",
      " [1 0 1 0 1 0 1 0]\n",
      " [0 1 0 1 0 1 0 1]\n",
      " [1 0 1 0 1 0 1 0]\n",
      " [0 1 0 1 0 1 0 1]\n",
      " [1 0 1 0 1 0 1 0]\n",
      " [0 1 0 1 0 1 0 1]]\n"
     ]
    }
   ],
   "source": [
    "import numpy as np\n",
    "\n",
    "\n",
    "checkerboard_tile = np.array([[1, 0],\n",
    "                              [0, 1]])\n",
    "\n",
    "checkerboard_matrix = np.tile(checkerboard_tile, (4, 4))\n",
    "\n",
    "print(\"Checkerboard 8x8 matrix:\")\n",
    "print(checkerboard_matrix)\n"
   ]
  },
  {
   "cell_type": "code",
   "execution_count": null,
   "id": "0066621e-fd49-4868-a192-9a15d9167382",
   "metadata": {},
   "outputs": [],
   "source": [
    "# Problem 16: \n",
    "# Calculate the eigenvalues and eigenvectors of a given 3x3 matrix. \n",
    "# Use a static 3x3 matrix for the example."
   ]
  },
  {
   "cell_type": "code",
   "execution_count": 14,
   "id": "52fcf722-af8e-4c34-a295-b8b79c8c2ed7",
   "metadata": {},
   "outputs": [
    {
     "name": "stdout",
     "output_type": "stream",
     "text": [
      "Eigenvalues:\n",
      "[ 1.61168440e+01 -1.11684397e+00 -4.22209278e-16]\n",
      "\n",
      "Eigenvectors:\n",
      "[[-0.23197069 -0.78583024  0.40824829]\n",
      " [-0.52532209 -0.08675134 -0.81649658]\n",
      " [-0.8186735   0.61232756  0.40824829]]\n"
     ]
    }
   ],
   "source": [
    "import numpy as np\n",
    "\n",
    "matrix = np.array([[1, 2, 3],\n",
    "                   [4, 5, 6],\n",
    "                   [7, 8, 9]])\n",
    "\n",
    "\n",
    "eigenvalues, eigenvectors = np.linalg.eig(matrix)\n",
    "\n",
    "print(\"Eigenvalues:\")\n",
    "print(eigenvalues)\n",
    "print(\"\\nEigenvectors:\")\n",
    "print(eigenvectors)\n"
   ]
  },
  {
   "cell_type": "code",
   "execution_count": null,
   "id": "ff610fb7-6420-43c9-a57d-761681b4feb9",
   "metadata": {},
   "outputs": [],
   "source": [
    "# Problem 17: \n",
    "# How to get the n largest values of an array?"
   ]
  },
  {
   "cell_type": "code",
   "execution_count": 15,
   "id": "b95b1737-bed3-4691-955f-0c3ba5387aba",
   "metadata": {},
   "outputs": [
    {
     "name": "stdout",
     "output_type": "stream",
     "text": [
      "The 3 largest values in the array are: [7 8 9]\n"
     ]
    }
   ],
   "source": [
    "import numpy as np\n",
    "\n",
    "def get_n_largest(arr, n):\n",
    "    \n",
    "    partitioned = np.partition(arr, -n)\n",
    "    \n",
    "    \n",
    "    nth_largest = partitioned[-n:]\n",
    "    \n",
    "    return nth_largest\n",
    "\n",
    "\n",
    "array = np.array([4, 2, 9, 5, 1, 6, 3, 8, 7])\n",
    "n = 3\n",
    "\n",
    "result = get_n_largest(array, n)\n",
    "print(f\"The {n} largest values in the array are:\", result)\n"
   ]
  },
  {
   "cell_type": "code",
   "execution_count": null,
   "id": "9db970a0-bd77-4168-8b94-cffe4cadac4b",
   "metadata": {},
   "outputs": [],
   "source": [
    "# Problem 18: \n",
    "# Replace NaNs with the median of the array"
   ]
  },
  {
   "cell_type": "code",
   "execution_count": 16,
   "id": "d62de214-b7c8-4440-8f29-f41db5b1e70f",
   "metadata": {},
   "outputs": [
    {
     "name": "stdout",
     "output_type": "stream",
     "text": [
      "Array with NaNs replaced by median: [1. 2. 5. 4. 5. 5. 7. 8. 9.]\n"
     ]
    }
   ],
   "source": [
    "import numpy as np\n",
    "\n",
    "def replace_nans_with_median(arr):\n",
    "    \n",
    "    median = np.nanmedian(arr)\n",
    "    \n",
    "    \n",
    "    arr[np.isnan(arr)] = median\n",
    "    \n",
    "    return arr\n",
    "\n",
    "\n",
    "array = np.array([1, 2, np.nan, 4, 5, np.nan, 7, 8, 9])\n",
    "array_with_nans_replaced = replace_nans_with_median(array)\n",
    "\n",
    "print(\"Array with NaNs replaced by median:\", array_with_nans_replaced)\n"
   ]
  },
  {
   "cell_type": "code",
   "execution_count": null,
   "id": "c6416999-3cbd-4b52-8a35-35e8b49b6d5b",
   "metadata": {},
   "outputs": [],
   "source": [
    "# Problem 19: \n",
    "# How to find the closest value (to a given scalar) in a vector?"
   ]
  },
  {
   "cell_type": "code",
   "execution_count": 17,
   "id": "4c24ac6b-1827-484e-887f-7f26a3719bb2",
   "metadata": {},
   "outputs": [
    {
     "name": "stdout",
     "output_type": "stream",
     "text": [
      "Closest value to 6 in the vector: 5\n"
     ]
    }
   ],
   "source": [
    "import numpy as np\n",
    "\n",
    "def find_closest_value(vector, scalar):\n",
    "    \n",
    "    differences = np.abs(vector - scalar)\n",
    "    \n",
    "\n",
    "    closest_index = np.argmin(differences)\n",
    "    \n",
    "    \n",
    "    closest_value = vector[closest_index]\n",
    "    \n",
    "    return closest_value\n",
    "\n",
    "vector = np.array([1, 3, 5, 7, 9])\n",
    "scalar = 6\n",
    "\n",
    "closest_value = find_closest_value(vector, scalar)\n",
    "print(\"Closest value to\", scalar, \"in the vector:\", closest_value)\n"
   ]
  },
  {
   "cell_type": "code",
   "execution_count": null,
   "id": "3164faeb-8d0d-44f2-8b24-67acb0cddea5",
   "metadata": {},
   "outputs": [],
   "source": [
    "# Problem 20: \n",
    "# How to convert a float (32 bits) array into an integer (32 bits) in place?\n"
   ]
  },
  {
   "cell_type": "code",
   "execution_count": 9,
   "id": "e21a7943-05d7-4b52-8fde-9a917893f0be",
   "metadata": {},
   "outputs": [
    {
     "name": "stdout",
     "output_type": "stream",
     "text": [
      "[3, 2, 1]\n"
     ]
    }
   ],
   "source": [
    "\n",
    "float_array = [3.14, 2.718, 1.618]\n",
    "\n",
    "\n",
    "for i in range(len(float_array)):\n",
    "    float_array[i] = int(float_array[i])\n",
    "\n",
    "\n",
    "print(float_array)\n"
   ]
  },
  {
   "cell_type": "code",
   "execution_count": null,
   "id": "b69503aa-b238-4030-8283-e816fbacf51b",
   "metadata": {},
   "outputs": [],
   "source": []
  },
  {
   "cell_type": "code",
   "execution_count": null,
   "id": "18e12d54-3d99-49e2-b454-a9e0a4845ae4",
   "metadata": {},
   "outputs": [],
   "source": []
  }
 ],
 "metadata": {
  "kernelspec": {
   "display_name": "Python 3 (ipykernel)",
   "language": "python",
   "name": "python3"
  },
  "language_info": {
   "codemirror_mode": {
    "name": "ipython",
    "version": 3
   },
   "file_extension": ".py",
   "mimetype": "text/x-python",
   "name": "python",
   "nbconvert_exporter": "python",
   "pygments_lexer": "ipython3",
   "version": "3.11.5"
  }
 },
 "nbformat": 4,
 "nbformat_minor": 5
}
