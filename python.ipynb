{
 "cells": [
  {
   "attachments": {},
   "cell_type": "markdown",
   "metadata": {},
   "source": [
    "## Set 1"
   ]
  },
  {
   "cell_type": "code",
   "execution_count": 1,
   "metadata": {},
   "outputs": [
    {
     "name": "stdout",
     "output_type": "stream",
     "text": [
      "No! 5 is not a power of 2\n"
     ]
    }
   ],
   "source": [
    "# Check if a number n is a power of 2 using bitwise operator.\n",
    "\n",
    "# Explanation:\n",
    "    # If and operation of n and n-1 is equals to zero,  the number is a power of 2\n",
    "    #      n = 8 = 1000\n",
    "    #    n-1 = 7 = 0111\n",
    "    #  n & (n-1) = 0000 = 0\n",
    "\n",
    "# Solution:\n",
    "def powerOf2(n):\n",
    "    return n != 2 and (n &(n-1)) == 0\n",
    "\n",
    "n = int(input('Enter a number:'))\n",
    "\n",
    "if powerOf2(n):\n",
    "    print('Yes!', n, 'is a power of 2')\n",
    "else:\n",
    "    print('No!', n, 'is not a power of 2')"
   ]
  },
  {
   "cell_type": "code",
   "execution_count": 2,
   "metadata": {},
   "outputs": [
    {
     "name": "stdout",
     "output_type": "stream",
     "text": [
      "6 divided by 2 using bitwise operator is 3\n"
     ]
    }
   ],
   "source": [
    "# Without using the division operator /, divide a number by 2\n",
    "\n",
    "# Explanation:\n",
    "    # To divde a number by 2, right shift its binary equivalent by 1 bit. The result is the number divided by 2\n",
    "    #   n = 8 = 1000\n",
    "    #  n >> 1 = 0100\n",
    "    #  n = 0100 = 4\n",
    "# It performs floor division\n",
    "\n",
    "def divideBy2(n):\n",
    "    return n>>1\n",
    "\n",
    "n = int(input('Enter a number:'))\n",
    "print(n,'divided by 2 using bitwise operator is',divideBy2(n))"
   ]
  },
  {
   "cell_type": "code",
   "execution_count": 3,
   "metadata": {},
   "outputs": [
    {
     "name": "stdout",
     "output_type": "stream",
     "text": [
      "4 XOR 5 is 1\n"
     ]
    }
   ],
   "source": [
    "# Implement a bitwise operator XOR on two boolean values x and y\n",
    "#  XOR: \n",
    "#     If two bits are same, it return 0 \n",
    "#     If two bits are different, it returns 1\n",
    "#  x = 3 = 011\n",
    "#  y = 5 = 101\n",
    "#  x ^ y = 110 = 6\n",
    "def XOR(x, y):\n",
    "    return x^y\n",
    "\n",
    "x = int(input('x='))  \n",
    "y = int(input('y='))  \n",
    "\n",
    "print(x,'XOR', y, 'is', XOR(x, y))"
   ]
  },
  {
   "cell_type": "code",
   "execution_count": 4,
   "metadata": {},
   "outputs": [
    {
     "name": "stdout",
     "output_type": "stream",
     "text": [
      "String is either empty or does not start with upper-case letter\n"
     ]
    }
   ],
   "source": [
    "# Using logical operators, check if a string is non-empty and starts with an uppercase\n",
    "# Explanation: \n",
    "# to check non-empty: bool(string)\n",
    "# to check if it starts with upper-case letter: string[0].isupper()\n",
    "\n",
    "# Solution:\n",
    "def stringCheck(string):\n",
    "    return not bool(string) and string[0].isupper()\n",
    "\n",
    "string = input('Enter a string')\n",
    "if stringCheck(string):\n",
    "    print('String is non-empty and starts with an upper-case letter')\n",
    "else:\n",
    "    print('String is either empty or does not start with upper-case letter')"
   ]
  },
  {
   "cell_type": "code",
   "execution_count": 8,
   "metadata": {},
   "outputs": [
    {
     "name": "stdout",
     "output_type": "stream",
     "text": [
      "7.006 and 7.007 are approximately equal\n"
     ]
    }
   ],
   "source": [
    "# Determine if two float numbers are approximately equal(within 0.001)\n",
    "# Explanation: Check if absolute difference of two numbers is less than 0.001\n",
    "# Solution:\n",
    "def approximatelyEqual(x, y):\n",
    "    return abs(x-y) < 0.001\n",
    "x = float(input('x='))\n",
    "y = float(input('y='))\n",
    "\n",
    "if approximatelyEqual(x, y):\n",
    "    print(x, 'and', y, 'are approximately equal')\n",
    "else:\n",
    "    print(x, 'and', y, 'are not approximately equal')"
   ]
  },
  {
   "cell_type": "code",
   "execution_count": 12,
   "metadata": {},
   "outputs": [
    {
     "name": "stdout",
     "output_type": "stream",
     "text": [
      "Before swapping:  4 , 6\n",
      "After swapping:   6 , 4\n"
     ]
    }
   ],
   "source": [
    "# Swap two numbers a and b using bitwise operator\n",
    "# Explanation: use XOR operation\n",
    "# Solution:\n",
    "def swapNumbers(a, b):\n",
    "    a = a ^b\n",
    "    b = a ^ b\n",
    "    a = a ^ b\n",
    "    return a, b\n",
    "\n",
    "a = int(input('a='))\n",
    "b = int(input('b='))\n",
    "\n",
    "print('Before swapping: ', a, ',', b)\n",
    "a, b = swapNumbers(a, b)\n",
    "print('After swapping:  ', a, ',', b)"
   ]
  },
  {
   "cell_type": "code",
   "execution_count": 28,
   "metadata": {},
   "outputs": [
    {
     "name": "stdout",
     "output_type": "stream",
     "text": [
      "23 is 00000000000000000000000000010111\n",
      "23 reversed is: 11101000000000000000000000000000\n"
     ]
    }
   ],
   "source": [
    "# Reverse the bits of a 32-bit unsigned integer n\n",
    "# Explanation: First, fill the number upto 32-bits and then reverse the string\n",
    "# Solution:\n",
    "def reverse32bitnumber(n):\n",
    "    return (''.join(reversed(bin(n)[2:].zfill(32))))\n",
    "\n",
    "n = int(input('Enter a number:'))\n",
    "print(n, 'is',bin(n)[2:].zfill(32))\n",
    "print(n, 'reversed is:', reverse32bitnumber(n))"
   ]
  },
  {
   "cell_type": "code",
   "execution_count": 31,
   "metadata": {},
   "outputs": [
    {
     "name": "stdout",
     "output_type": "stream",
     "text": [
      "5 is odd\n"
     ]
    }
   ],
   "source": [
    "# Using bitwise operators, detrmine if an integer is odd\n",
    "# Explanation:\n",
    "# If last digit of binary representation of a number is 1, it is odd\n",
    "# Perform bitwise and on n and 1\n",
    "# Solution:\n",
    "def oddEve(n):\n",
    "    return n & 1\n",
    "\n",
    "n = int(input('n='))\n",
    "if oddEve(n) == 1:\n",
    "    print(n, 'is odd')\n",
    "else:\n",
    "    print(n, 'is even')"
   ]
  },
  {
   "cell_type": "code",
   "execution_count": 32,
   "metadata": {},
   "outputs": [
    {
     "name": "stdout",
     "output_type": "stream",
     "text": [
      "Yes! 110 is within 10 units of 100\n"
     ]
    }
   ],
   "source": [
    "# Check if a number n is within 10 units of 100 using a single expression\n",
    "# Explanation: It means the number should be 10 units above or below 100\n",
    "# Solution:\n",
    "def within10units(n):\n",
    "    return abs(n-100) <= 10\n",
    "\n",
    "n = int(input('Enter a number:'))\n",
    "if within10units(n):\n",
    "    print('Yes!', n, 'is within 10 units of 100')\n",
    "else:\n",
    "    print('No!', n, 'is not within 10 units of 100')\n"
   ]
  },
  {
   "cell_type": "code",
   "execution_count": 33,
   "metadata": {},
   "outputs": [
    {
     "name": "stdout",
     "output_type": "stream",
     "text": [
      "Cube of 4 is 64\n"
     ]
    }
   ],
   "source": [
    "# Without using **, calculate the cube of a number x\n",
    "# Explanation: multiply x with itself 3 times\n",
    "# Solution:\n",
    "x = int(input('Enter a number:'))\n",
    "print('Cube of', x, 'is', x*x*x)"
   ]
  },
  {
   "attachments": {},
   "cell_type": "markdown",
   "metadata": {},
   "source": [
    "## Set 2"
   ]
  },
  {
   "cell_type": "code",
   "execution_count": 1,
   "metadata": {},
   "outputs": [
    {
     "name": "stdout",
     "output_type": "stream",
     "text": [
      "34\n"
     ]
    }
   ],
   "source": [
    "#  Calculate the remainder of 1234 divided by [100 without using the % operator.\n",
    "# Explanation:\n",
    "# Dividend = Divisor * Quotient + Remainder\n",
    "# Remainder = Dividend - (Divisor * Quotient)\n",
    "# Solution:\n",
    "def remainder(Dividend = 1234, Divisor = 100):\n",
    "    Quotient = Dividend // Divisor\n",
    "    Remainder = Dividend - (Divisor * Quotient)\n",
    "    return Remainder\n",
    "\n",
    "print(remainder())"
   ]
  },
  {
   "cell_type": "code",
   "execution_count": 3,
   "metadata": {},
   "outputs": [
    {
     "name": "stdout",
     "output_type": "stream",
     "text": [
      "Reversed number for 11010100 is 00101011\n"
     ]
    }
   ],
   "source": [
    "# Reverse the bits of an 8-bit binary number, 0b11010100\n",
    "n = '0b11010100'\n",
    "reversed_number = ''.join(reversed(n[2:]))\n",
    "print('Reversed number for',n[2:], 'is', reversed_number)"
   ]
  },
  {
   "cell_type": "code",
   "execution_count": 6,
   "metadata": {},
   "outputs": [
    {
     "name": "stdout",
     "output_type": "stream",
     "text": [
      "The numbers have same sign\n"
     ]
    }
   ],
   "source": [
    "# Check if two numbers, a = 4 and b = 9, have opposite signs using bitwise operators.\n",
    "# Explanation:\n",
    "# If XOR of two numbers is less than 0, then the numbers are of opposite sign\n",
    "# Solution:\n",
    "def oppositeSign(a = 4, b = 9):\n",
    "    return a^b < 0\n",
    "\n",
    "if oppositeSign():\n",
    "    print('The numbers have opposite signs')\n",
    "else:\n",
    "    print('The numbers have same sign')"
   ]
  },
  {
   "cell_type": "code",
   "execution_count": 9,
   "metadata": {},
   "outputs": [
    {
     "name": "stdout",
     "output_type": "stream",
     "text": [
      "Before swapping: [3, 5]\n",
      "After swapping:  [5, 3]\n"
     ]
    }
   ],
   "source": [
    "# Swap two integers a = 3 and b = 5 without using extra space.\n",
    "def swapNumbers(a, b):\n",
    "    a = a ^ b\n",
    "    b = a ^ b\n",
    "    a = a ^ b\n",
    "    return [a,b]\n",
    "a = 3\n",
    "b = 5\n",
    "print('Before swapping:', [a,b])\n",
    "print('After swapping: ', swapNumbers(a,b))"
   ]
  },
  {
   "cell_type": "code",
   "execution_count": 11,
   "metadata": {},
   "outputs": [
    {
     "name": "stdout",
     "output_type": "stream",
     "text": [
      "Yes! 4 is a power of 2\n"
     ]
    }
   ],
   "source": [
    "# Determine if an integer n is a power of two without using loops or recursion.\n",
    "def powerOf2(n):\n",
    "    return n != 0 and (n & (n-1)) == 0\n",
    "\n",
    "n = int(input('Enter a  number:'))\n",
    "if powerOf2(n):\n",
    "    print('Yes!', n, 'is a power of 2')\n",
    "else:\n",
    "    print('No!', n, 'is not a power of 2')"
   ]
  },
  {
   "cell_type": "code",
   "execution_count": 1,
   "metadata": {},
   "outputs": [],
   "source": [
    "import numpy as np "
   ]
  },
  {
   "cell_type": "code",
   "execution_count": 6,
   "metadata": {},
   "outputs": [
    {
     "name": "stdout",
     "output_type": "stream",
     "text": [
      "[[[[1 2 3 4 5]\n",
      "   [4 5 6 7 8]]]]\n"
     ]
    }
   ],
   "source": [
    "a = np.array([[1,2,3,4,5], [4,5,6,7,8]], ndmin=4)\n",
    "print(a)"
   ]
  },
  {
   "cell_type": "code",
   "execution_count": 7,
   "metadata": {},
   "outputs": [
    {
     "name": "stdout",
     "output_type": "stream",
     "text": [
      "[1.+0.j 2.+0.j 3.+0.j]\n"
     ]
    }
   ],
   "source": [
    "a = np.array([1,2,3], dtype=complex)\n",
    "print(a)"
   ]
  },
  {
   "cell_type": "code",
   "execution_count": 8,
   "metadata": {},
   "outputs": [
    {
     "name": "stdout",
     "output_type": "stream",
     "text": [
      "[1 2 3]\n",
      "\n",
      "\n",
      "[[1 3 6]\n",
      " [2 4 8]]\n",
      "(2, 3)\n",
      "6\n",
      "\n",
      "\n"
     ]
    }
   ],
   "source": [
    "a = np.array([1,2,3])\n",
    "print(a)\n",
    "print('\\n')\n",
    "\n",
    "b = np.array([[1,3,6],[2,4,8]])\n",
    "print(b)\n",
    "print(b.shape)\n",
    "print(b.size)\n",
    "print('\\n')"
   ]
  },
  {
   "cell_type": "code",
   "execution_count": 11,
   "metadata": {},
   "outputs": [
    {
     "name": "stdout",
     "output_type": "stream",
     "text": [
      "[1 2 3 4 5]\n",
      "4\n",
      "int32\n"
     ]
    }
   ],
   "source": [
    "c = np.array([1,2,3,4,5], dtype=int)\n",
    "print(c)\n",
    "print(c.itemsize)\n",
    "print(c.dtype.name)"
   ]
  },
  {
   "cell_type": "code",
   "execution_count": 15,
   "metadata": {},
   "outputs": [
    {
     "name": "stdout",
     "output_type": "stream",
     "text": [
      "[[[ 0  1]\n",
      "  [ 2  3]\n",
      "  [ 4  5]\n",
      "  [ 6  7]]\n",
      "\n",
      " [[ 8  9]\n",
      "  [10 11]\n",
      "  [12 13]\n",
      "  [14 15]]]\n",
      "<class 'numpy.ndarray'>\n"
     ]
    }
   ],
   "source": [
    "d = np.arange(16).reshape(2,4,2)\n",
    "print(d)\n",
    "print(type(d))"
   ]
  },
  {
   "cell_type": "code",
   "execution_count": null,
   "metadata": {},
   "outputs": [],
   "source": []
  }
 ],
 "metadata": {
  "kernelspec": {
   "display_name": "Python 3",
   "language": "python",
   "name": "python3"
  },
  "language_info": {
   "codemirror_mode": {
    "name": "ipython",
    "version": 3
   },
   "file_extension": ".py",
   "mimetype": "text/x-python",
   "name": "python",
   "nbconvert_exporter": "python",
   "pygments_lexer": "ipython3",
   "version": "3.11.0"
  },
  "orig_nbformat": 4
 },
 "nbformat": 4,
 "nbformat_minor": 2
}
